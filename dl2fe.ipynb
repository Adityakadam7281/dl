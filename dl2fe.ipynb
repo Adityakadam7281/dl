{
 "cells": [
  {
   "cell_type": "code",
   "execution_count": null,
   "id": "6c57c191",
   "metadata": {},
   "outputs": [],
   "source": [
    "import tensorflow as tf\n",
    "from tensorflow import keras\n",
    "import pandas as pd\n",
    "import numpy as np\n",
    "import matplotlib.pyplot as plt\n",
    "import random \n",
    "%matplotlib inline\n",
    "\n",
    "mnist = tf.keras.datasets.mnist\n",
    "(x_train,y_train),(x_test,y_test) = mnist.load_data()\n",
    "\n",
    "plt.matshow(x_train[0])\n",
    "\n",
    "x_train = x_train / 255\n",
    "x_test = x_test / 255\n",
    "\n",
    "model = keras.Sequential([\n",
    "    keras.layers.Flatten(input_shape=(28,28)),\n",
    "    keras.layers.Dense(128,activation = 'relu'),\n",
    "    keras.layers.Dense(10,activation = 'softmax')\n",
    "])\n",
    "\n",
    "model.compile(optimizer = 'sgd',loss = 'sparse_categorical_crossentropy', metrics = ['accuracy'])\n",
    "\n",
    "history = model.fit(x_train,y_train,validation_data = (x_test,y_test), epochs = 10)\n",
    "\n",
    "test_loss,test_acc = model.evaluate(x_test,y_test)\n",
    "print(\"Loss = %.3f\" %test_loss)\n",
    "print(\"Accuracy = %.3f\" %test_acc)\n",
    "\n",
    "n = random.randint(0,9999)\n",
    "plt.imshow(x_test[n])\n",
    "plt.show()\n",
    "\n",
    "test_predict = model.predict(x_test)\n",
    "#get classification labels\n",
    "test_predict_labels = np.argmax(test_predict,axis = 1)\n",
    "confusion_matrix = tf.math.confusion_matrix(labels = y_test, predictions = test_predict_labels)\n",
    "print('Confusion Matrix of the Test Set :\\n' , confusion_matrix)"
   ]
  }
 ],
 "metadata": {
  "kernelspec": {
   "display_name": "Python 3 (ipykernel)",
   "language": "python",
   "name": "python3"
  },
  "language_info": {
   "codemirror_mode": {
    "name": "ipython",
    "version": 3
   },
   "file_extension": ".py",
   "mimetype": "text/x-python",
   "name": "python",
   "nbconvert_exporter": "python",
   "pygments_lexer": "ipython3",
   "version": "3.9.13"
  }
 },
 "nbformat": 4,
 "nbformat_minor": 5
}
